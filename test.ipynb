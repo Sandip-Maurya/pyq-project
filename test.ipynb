{
 "cells": [
  {
   "cell_type": "code",
   "execution_count": 1,
   "metadata": {},
   "outputs": [],
   "source": [
    "import os\n",
    "import pandas as pd \n",
    "import numpy as np\n",
    "import json\n",
    "\n"
   ]
  },
  {
   "cell_type": "code",
   "execution_count": 10,
   "metadata": {},
   "outputs": [
    {
     "data": {
      "text/plain": [
       "'{\"1\": 4, \"2\": 5, \"3\": 6}'"
      ]
     },
     "execution_count": 10,
     "metadata": {},
     "output_type": "execute_result"
    }
   ],
   "source": [
    "# d = {0:'zero', 1:'one', 2:'two'}\n",
    "# type(json.dumps(d))\n",
    "a = [1,2,3]\n",
    "b = [4,5,6]\n",
    "\n",
    "d = dict(zip(a,b))\n",
    "json.dumps(d)\n"
   ]
  },
  {
   "cell_type": "code",
   "execution_count": 7,
   "metadata": {},
   "outputs": [
    {
     "data": {
      "text/plain": [
       "'c:\\\\Users\\\\Admin\\\\Desktop'"
      ]
     },
     "execution_count": 7,
     "metadata": {},
     "output_type": "execute_result"
    }
   ],
   "source": [
    "os.path.dirname(os.getcwd())\n"
   ]
  },
  {
   "cell_type": "code",
   "execution_count": 14,
   "metadata": {},
   "outputs": [
    {
     "data": {
      "text/plain": [
       "{0: 1, 1: 2, 2: 3}"
      ]
     },
     "execution_count": 14,
     "metadata": {},
     "output_type": "execute_result"
    }
   ],
   "source": [
    "lst = [1,2,3]\n",
    "dict (zip(range(len(lst)), lst))\n",
    "\n"
   ]
  },
  {
   "cell_type": "code",
   "execution_count": 12,
   "metadata": {},
   "outputs": [
    {
     "data": {
      "text/plain": [
       "['JEE Main 2019 (Online) 10th January Evening Slot',\n",
       " 'JEE Main 2020 (Online) 4th September Morning Slot',\n",
       " 'JEE Main 2015 (Offline)',\n",
       " 'JEE Main 2021 (Online) 17th March Morning Shift',\n",
       " 'JEE Main 2016 (Online) 10th April Morning Slot']"
      ]
     },
     "execution_count": 12,
     "metadata": {},
     "output_type": "execute_result"
    }
   ],
   "source": [
    "import re\n",
    "path = r'C:\\Users\\Admin\\Desktop\\pyq-project\\exam_data\\JEE Main Data'\n",
    "all_files = os.listdir(path)\n",
    "all_files\n",
    "papers = []\n",
    "for file in all_files:\n",
    "    paper = re.sub(r'(\\.xlsx)|(SCQ)|(NUM)|(MATH)|(PHY)|(CHEM)', '', file)\n",
    "    papers.append(paper)\n",
    "\n",
    "papers = list(set(papers))\n",
    "papers = [i.strip() for i in papers]\n",
    "papers[:5]\n"
   ]
  },
  {
   "cell_type": "code",
   "execution_count": 13,
   "metadata": {},
   "outputs": [
    {
     "name": "stdout",
     "output_type": "stream",
     "text": [
      "JEE Main 2021 (Online) 17th March Morning Shift\n",
      "JEE Main 2021 (Online) 26th August Evening Shift\n",
      "JEE Main 2021 (Online) 31st August Evening Shift\n",
      "JEE Main 2021 (Online) 27th July Evening Shift\n",
      "JEE Main 2021 (Online) 20th July Morning Shift\n",
      "JEE Main 2021 (Online) 31st August Morning Shift\n",
      "JEE Main 2021 (Online) 26th August Morning Shift\n",
      "JEE Main 2021 (Online) 25th July Evening Shift\n",
      "JEE Main 2021 (Online) 26th February Evening Shift\n",
      "JEE Main 2021 (Online) 18th March Evening Shift\n",
      "JEE Main 2021 (Online) 24th February Morning Shift\n",
      "JEE Main 2021 (Online) 20th July Evening Shift\n",
      "JEE Main 2021 (Online) 22th July Evening Shift\n",
      "JEE Main 2021 (Online) 1st September Evening Shift\n",
      "JEE Main 2021 (Online) 25th February Evening Shift\n",
      "JEE Main 2021 (Online) 16th March Morning Shift\n",
      "JEE Main 2021 (Online) 25th July Morning Shift\n",
      "JEE Main 2021 (Online) 24th February Evening Shift\n",
      "JEE Main 2021 (Online) 27th August Evening Shift\n",
      "JEE Main 2021 (Online) 26th February Morning Shift\n",
      "JEE Main 2021 (Online) 27th July Morning Shift\n",
      "JEE Main 2021 (Online) 17th March Evening Shift\n",
      "JEE Main 2021 (Online) 25th February Morning Shift\n",
      "JEE Main 2021 (Online) 18th March Morning Shift\n",
      "JEE Main 2021 (Online) 16th March Evening Shift\n",
      "JEE Main 2021 (Online) 27th August Morning Shift\n"
     ]
    }
   ],
   "source": [
    "for paper in papers:\n",
    "    if '2021' in paper:\n",
    "        print(paper)\n",
    "        "
   ]
  },
  {
   "cell_type": "code",
   "execution_count": 5,
   "metadata": {},
   "outputs": [
    {
     "data": {
      "text/plain": [
       "str"
      ]
     },
     "execution_count": 5,
     "metadata": {},
     "output_type": "execute_result"
    }
   ],
   "source": []
  },
  {
   "cell_type": "code",
   "execution_count": null,
   "metadata": {},
   "outputs": [],
   "source": []
  },
  {
   "cell_type": "code",
   "execution_count": null,
   "metadata": {},
   "outputs": [],
   "source": []
  }
 ],
 "metadata": {
  "interpreter": {
   "hash": "369f2c481f4da34e4445cda3fffd2e751bd1c4d706f27375911949ba6bb62e1c"
  },
  "kernelspec": {
   "display_name": "Python 3.10.0 64-bit",
   "language": "python",
   "name": "python3"
  },
  "language_info": {
   "codemirror_mode": {
    "name": "ipython",
    "version": 3
   },
   "file_extension": ".py",
   "mimetype": "text/x-python",
   "name": "python",
   "nbconvert_exporter": "python",
   "pygments_lexer": "ipython3",
   "version": "3.10.0"
  },
  "orig_nbformat": 4
 },
 "nbformat": 4,
 "nbformat_minor": 2
}
