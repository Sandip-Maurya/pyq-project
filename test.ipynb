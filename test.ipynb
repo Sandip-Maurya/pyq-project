{
 "cells": [
  {
   "cell_type": "code",
   "execution_count": 1,
   "metadata": {},
   "outputs": [],
   "source": [
    "import os\n",
    "import pandas as pd \n",
    "import numpy as np\n",
    "import json\n",
    "\n"
   ]
  },
  {
   "cell_type": "code",
   "execution_count": null,
   "metadata": {},
   "outputs": [],
   "source": [
    "all_files = os.listdir( os.path.join(  os.getcwd(), 'exam_data', 'JEE Main Data'  ) )\n",
    "all_files\n"
   ]
  },
  {
   "cell_type": "code",
   "execution_count": 2,
   "metadata": {},
   "outputs": [],
   "source": []
  },
  {
   "cell_type": "code",
   "execution_count": 27,
   "metadata": {},
   "outputs": [],
   "source": [
    "\n",
    "def get_paper_data_json(Paper_view, Subject_view):\n",
    "    all_files = os.listdir( os.path.join(  os.getcwd(), 'exam_data', 'JEE Main Data'  ) )\n",
    "    files = [i for i in all_files if Paper_view in i]\n",
    "    subjects = ['MATH', 'CHEM', 'PHY']\n",
    "    q_types = ['SCQ', 'NUM']\n",
    "    q_data = {}\n",
    "    q_type_data = {}\n",
    "\n",
    "    if Subject_view != 'All Subjects':\n",
    "        if Subject_view == 'Mathematics':\n",
    "            Subject_view = subjects[0]\n",
    "        elif Subject_view == 'Physics':\n",
    "            Subject_view = subjects[2]\n",
    "        else:\n",
    "            Subject_view = subjects[1]\n",
    "        temp_files = [i for i in files if Subject_view in i]\n",
    "\n",
    "        for q_type in q_types[:len(temp_files)]:\n",
    "             q_type_data[q_type] = f'{q_type} data'\n",
    "        q_data[Subject_view] = q_type_data\n",
    "        print(temp_files)\n",
    "\n",
    "    else:\n",
    "        for Subject_view in subjects:\n",
    "            temp_files = [i for i in files if Subject_view in i]\n",
    "\n",
    "            for file, q_type in zip(q_types, temp_files):\n",
    "                q_type_data[q_type] = f'{q_type} data from \"{file}\"'\n",
    "            q_data[Subject_view] = q_type_data\n",
    "            print(temp_files)\n",
    "    return q_data"
   ]
  },
  {
   "cell_type": "code",
   "execution_count": 28,
   "metadata": {},
   "outputs": [
    {
     "name": "stdout",
     "output_type": "stream",
     "text": [
      "['JEE Main 2021 (Online) 27th August Evening Shift MATH NUM.xlsx', 'JEE Main 2021 (Online) 27th August Evening Shift MATH SCQ.xlsx']\n",
      "['JEE Main 2021 (Online) 27th August Evening Shift CHEM NUM.xlsx', 'JEE Main 2021 (Online) 27th August Evening Shift CHEM SCQ.xlsx']\n",
      "['JEE Main 2021 (Online) 27th August Evening Shift PHY NUM.xlsx', 'JEE Main 2021 (Online) 27th August Evening Shift PHY SCQ.xlsx']\n"
     ]
    },
    {
     "data": {
      "text/plain": [
       "{'MATH': {'SCQ': 'SCQ data', 'NUM': 'NUM data'},\n",
       " 'CHEM': {'SCQ': 'SCQ data', 'NUM': 'NUM data'},\n",
       " 'PHY': {'SCQ': 'SCQ data', 'NUM': 'NUM data'}}"
      ]
     },
     "execution_count": 28,
     "metadata": {},
     "output_type": "execute_result"
    }
   ],
   "source": [
    "Paper_view = 'JEE Main 2021 (Online) 27th August Evening Shift'\n",
    "Subject_view = 'All Subjects'\n",
    "# Subject_view = 'Mathematics'\n",
    "# Subject_view = 'Physics'\n",
    "# Subject_view = 'Chemistry'\n",
    "\n",
    "get_paper_data_json(Paper_view, Subject_view)\n"
   ]
  },
  {
   "cell_type": "code",
   "execution_count": null,
   "metadata": {},
   "outputs": [],
   "source": [
    "Paper_names = []\n",
    "path = r'C:\\Users\\Admin\\Desktop\\pyq-project\\exam_data\\JEE Main Data'+\n",
    "df = pd.read_excel()"
   ]
  },
  {
   "cell_type": "code",
   "execution_count": null,
   "metadata": {},
   "outputs": [],
   "source": []
  },
  {
   "cell_type": "code",
   "execution_count": null,
   "metadata": {},
   "outputs": [],
   "source": []
  },
  {
   "cell_type": "code",
   "execution_count": null,
   "metadata": {},
   "outputs": [],
   "source": []
  },
  {
   "cell_type": "code",
   "execution_count": null,
   "metadata": {},
   "outputs": [],
   "source": []
  },
  {
   "cell_type": "code",
   "execution_count": null,
   "metadata": {},
   "outputs": [],
   "source": []
  },
  {
   "cell_type": "code",
   "execution_count": null,
   "metadata": {},
   "outputs": [],
   "source": []
  },
  {
   "cell_type": "code",
   "execution_count": null,
   "metadata": {},
   "outputs": [],
   "source": []
  }
 ],
 "metadata": {
  "interpreter": {
   "hash": "369f2c481f4da34e4445cda3fffd2e751bd1c4d706f27375911949ba6bb62e1c"
  },
  "kernelspec": {
   "display_name": "Python 3.10.0 64-bit",
   "language": "python",
   "name": "python3"
  },
  "language_info": {
   "codemirror_mode": {
    "name": "ipython",
    "version": 3
   },
   "file_extension": ".py",
   "mimetype": "text/x-python",
   "name": "python",
   "nbconvert_exporter": "python",
   "pygments_lexer": "ipython3",
   "version": "3.10.0"
  },
  "orig_nbformat": 4
 },
 "nbformat": 4,
 "nbformat_minor": 2
}
