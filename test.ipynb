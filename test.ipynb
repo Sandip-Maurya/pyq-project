{
 "cells": [
  {
   "cell_type": "code",
   "execution_count": 3,
   "metadata": {},
   "outputs": [
    {
     "data": {
      "text/plain": [
       "'C:\\\\Users\\\\Admin\\\\Desktop\\\\basic web projects\\\\learn\\\\learn form\\\\exam_data\\\\JEE Main Data\\\\JEE Main 2021 (Online) 27th July Evening Shift MATH'"
      ]
     },
     "execution_count": 3,
     "metadata": {},
     "output_type": "execute_result"
    }
   ],
   "source": [
    "file_name = r'C:\\Users\\Admin\\Desktop\\basic web projects\\learn\\learn form\\exam_data\\JEE Main Data\\JEE Main 2021 (Online) 27th July Evening Shift MATH SCQ.xlsx'\n",
    "file_name[:-9]"
   ]
  },
  {
   "cell_type": "code",
   "execution_count": 4,
   "metadata": {},
   "outputs": [
    {
     "data": {
      "text/plain": [
       "' SCQ.xlsx'"
      ]
     },
     "execution_count": 4,
     "metadata": {},
     "output_type": "execute_result"
    }
   ],
   "source": [
    "file_name[-9:]"
   ]
  },
  {
   "cell_type": "code",
   "execution_count": null,
   "metadata": {},
   "outputs": [],
   "source": [
    "from python_scripts.gen_files_names import get_required_files\n",
    "file_names = get_required_files()\n",
    "file_names"
   ]
  },
  {
   "cell_type": "code",
   "execution_count": 8,
   "metadata": {},
   "outputs": [
    {
     "data": {
      "text/plain": [
       "0     2\n",
       "1     4\n",
       "2     4\n",
       "3     3\n",
       "4     4\n",
       "5     1\n",
       "6     3\n",
       "7     3\n",
       "8     3\n",
       "9     2\n",
       "10    3\n",
       "11    2\n",
       "12    1\n",
       "13    2\n",
       "14    2\n",
       "15    1\n",
       "16    2\n",
       "17    2\n",
       "18    4\n",
       "19    3\n",
       "Name: true_ans, dtype: int64"
      ]
     },
     "execution_count": 8,
     "metadata": {},
     "output_type": "execute_result"
    }
   ],
   "source": [
    "import os\n",
    "import pandas as pd \n",
    "import numpy as np\n",
    "\n",
    "exam_file = 'JEE Main 2021 (Online) 27th July Evening Shift MATH SCQ.xlsx'\n",
    "\n",
    "path = os.getcwd()\n",
    "path = os.path.join(path, r'exam_data\\JEE Main Data', exam_file)\n",
    "df = pd.read_excel(path)\n",
    "q_data = df[['que_desc', 'ans1', 'ans2', 'ans3', 'ans4', 'true_ans', 'Ref_Text']]\n",
    "\n",
    "q_data\n",
    "q_data['true_ans']"
   ]
  },
  {
   "cell_type": "code",
   "execution_count": 9,
   "metadata": {},
   "outputs": [
    {
     "name": "stderr",
     "output_type": "stream",
     "text": [
      "C:\\Users\\Admin\\AppData\\Local\\Temp/ipykernel_4196/1166602963.py:3: SettingWithCopyWarning: \n",
      "A value is trying to be set on a copy of a slice from a DataFrame.\n",
      "Try using .loc[row_indexer,col_indexer] = value instead\n",
      "\n",
      "See the caveats in the documentation: https://pandas.pydata.org/pandas-docs/stable/user_guide/indexing.html#returning-a-view-versus-a-copy\n",
      "  q_data['true_ans'] = np.select(old_options, new_options)\n"
     ]
    },
    {
     "data": {
      "text/plain": [
       "0     (B)\n",
       "1     (D)\n",
       "2     (D)\n",
       "3     (C)\n",
       "4     (D)\n",
       "5     (A)\n",
       "6     (C)\n",
       "7     (C)\n",
       "8     (C)\n",
       "9     (B)\n",
       "10    (C)\n",
       "11    (B)\n",
       "12    (A)\n",
       "13    (B)\n",
       "14    (B)\n",
       "15    (A)\n",
       "16    (B)\n",
       "17    (B)\n",
       "18    (D)\n",
       "19    (C)\n",
       "Name: true_ans, dtype: object"
      ]
     },
     "execution_count": 9,
     "metadata": {},
     "output_type": "execute_result"
    }
   ],
   "source": [
    "old_options = [ q_data['true_ans']==1,q_data['true_ans']==2,q_data['true_ans']==3,q_data['true_ans']==4]\n",
    "new_options = ['(A)', '(B)', '(C)', '(D)']\n",
    "q_data['true_ans'] = np.select(old_options, new_options)\n",
    "q_data['true_ans']"
   ]
  },
  {
   "cell_type": "code",
   "execution_count": null,
   "metadata": {},
   "outputs": [],
   "source": []
  },
  {
   "cell_type": "code",
   "execution_count": null,
   "metadata": {},
   "outputs": [],
   "source": []
  }
 ],
 "metadata": {
  "interpreter": {
   "hash": "2be5faf79681da6f2a61fdfdd5405d65d042280f7fba6178067603e3a2925119"
  },
  "kernelspec": {
   "display_name": "Python 3.10.0 64-bit",
   "language": "python",
   "name": "python3"
  },
  "language_info": {
   "codemirror_mode": {
    "name": "ipython",
    "version": 3
   },
   "file_extension": ".py",
   "mimetype": "text/x-python",
   "name": "python",
   "nbconvert_exporter": "python",
   "pygments_lexer": "ipython3",
   "version": "3.10.0"
  },
  "orig_nbformat": 4
 },
 "nbformat": 4,
 "nbformat_minor": 2
}
